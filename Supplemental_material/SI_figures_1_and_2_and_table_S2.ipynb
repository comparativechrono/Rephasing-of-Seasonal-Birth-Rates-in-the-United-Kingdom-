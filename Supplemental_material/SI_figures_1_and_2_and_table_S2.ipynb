{
  "nbformat": 4,
  "nbformat_minor": 0,
  "metadata": {
    "colab": {
      "provenance": [],
      "authorship_tag": "ABX9TyOtTJ7EutEko2vGMu+6sdbI",
      "include_colab_link": true
    },
    "kernelspec": {
      "name": "python3",
      "display_name": "Python 3"
    },
    "language_info": {
      "name": "python"
    }
  },
  "cells": [
    {
      "cell_type": "markdown",
      "metadata": {
        "id": "view-in-github",
        "colab_type": "text"
      },
      "source": [
        "<a href=\"https://colab.research.google.com/github/comparativechrono/Rephasing-of-Seasonal-Birth-Rates-in-the-United-Kingdom-/blob/main/Supplemental_material/SI_figures_1_and_2_and_table_S2.ipynb\" target=\"_parent\"><img src=\"https://colab.research.google.com/assets/colab-badge.svg\" alt=\"Open In Colab\"/></a>"
      ]
    },
    {
      "cell_type": "code",
      "execution_count": null,
      "metadata": {
        "id": "L3zq7R_CHrYo"
      },
      "outputs": [],
      "source": [
        "\"\"\"\n",
        "Reproduces SI figures 1 and 2 and table S2.\n",
        "Requires: pandas, numpy, matplotlib, statsmodels, scipy\n",
        "Place `environmental.csv` in the working directory.\n",
        "\"\"\"\n",
        "import pandas as pd, numpy as np, matplotlib.pyplot as plt, statsmodels.api as sm\n",
        "from statsmodels.tsa.seasonal import STL\n",
        "from statsmodels.stats.diagnostic import breaks_cusumolsresid\n",
        "from scipy.stats import f\n",
        "\n",
        "# 1 Load data -------------------------------------------------------------\n",
        "df = pd.read_csv('environmental.csv')\n",
        "parse = lambda s: (pd.to_datetime(s, format='%b-%y')\n",
        "                  - pd.DateOffset(years=100) if pd.to_datetime(s, format='%b-%y').year > 2025\n",
        "                  else pd.to_datetime(s, format='%b-%y'))\n",
        "df['Date'] = df['Date'].apply(parse)\n",
        "df = df.set_index('Date').sort_index()\n",
        "\n",
        "# 2 STL decomposition -----------------------------------------------------\n",
        "period = 12\n",
        "seasonals = {c: STL(df[c], period=period, robust=True).fit().seasonal for c in ['BR', 'photoperiod', 'light', 'temp']}\n",
        "dfs = pd.DataFrame(seasonals).dropna()\n",
        "\n",
        "# Figure 1 – birth‑season amplitude --------------------------------------\n",
        "amp = dfs['BR'].groupby(dfs.index.year).agg(lambda x: x.max() - x.min())\n",
        "plt.figure(facecolor='white'); plt.plot(amp.index, amp.values)\n",
        "plt.axvline(1975, ls='--', c='r'); plt.title('Figure 1  Annual amplitude of birth seasonality')\n",
        "plt.xlabel('Year'); plt.ylabel('Peak‑to‑trough amplitude'); plt.tight_layout(); plt.show()\n",
        "\n",
        "# 3 Static regression set‑up --------------------------------------------\n",
        "y, X = dfs['BR'], sm.add_constant(dfs[['photoperiod', 'temp']])\n",
        "\n",
        "# Figure 2 – Chow scan ----------------------------------------------------\n",
        "scan_dates = pd.date_range('1965-01', '1985-12', freq='MS')\n",
        "F_vals, p_vals = [], []\n",
        "full_res = sm.OLS(y, X).fit(); rss_full = (full_res.resid**2).sum(); n, k = X.shape\n",
        "for dt in scan_dates:\n",
        "    if dt <= y.index.min() + pd.DateOffset(years=5) or dt >= y.index.max() - pd.DateOffset(years=5):\n",
        "        F_vals.append(np.nan); p_vals.append(np.nan); continue\n",
        "    pre, post = y.index <= dt, y.index > dt\n",
        "    rss_split = (sm.OLS(y[pre],  X.loc[pre]).fit().resid**2).sum() + \\\n",
        "                (sm.OLS(y[post], X.loc[post]).fit().resid**2).sum()\n",
        "    F = ((rss_full - rss_split) / k) / (rss_split / (n - 2*k))\n",
        "    F_vals.append(F); p_vals.append(1 - f.cdf(F, k, n - 2*k))\n",
        "Chow = pd.DataFrame({'F': F_vals, 'p': p_vals}, index=scan_dates)\n",
        "plt.figure(facecolor='white'); plt.plot(Chow.index, Chow['F'])\n",
        "plt.axvline(pd.Timestamp('1975-01'), ls='--', c='r')\n",
        "plt.axvline(Chow['F'].idxmax(), ls='--', c='g')\n",
        "plt.title('Figure 2  Chow F‑statistic scan'); plt.xlabel('Breakpoint'); plt.ylabel('F'); plt.tight_layout(); plt.show()\n",
        "print('\\nTop Chow candidates:\\n', Chow.sort_values('F', ascending=False).head(5))\n"
      ]
    }
  ]
}