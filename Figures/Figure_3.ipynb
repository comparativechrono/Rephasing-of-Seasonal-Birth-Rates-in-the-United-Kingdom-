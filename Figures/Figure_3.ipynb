{
  "cells": [
    {
      "cell_type": "markdown",
      "metadata": {
        "id": "view-in-github",
        "colab_type": "text"
      },
      "source": [
        "<a href=\"https://colab.research.google.com/github/comparativechrono/Rephasing-of-Seasonal-Birth-Rates-in-the-United-Kingdom-/blob/main/Figures/Figure_3.ipynb\" target=\"_parent\"><img src=\"https://colab.research.google.com/assets/colab-badge.svg\" alt=\"Open In Colab\"/></a>"
      ]
    },
    {
      "cell_type": "markdown",
      "source": [
        "# Time series analysis"
      ],
      "metadata": {
        "id": "ohv7QgZfwVSg"
      },
      "id": "ohv7QgZfwVSg"
    },
    {
      "cell_type": "markdown",
      "source": [
        "Install required packages"
      ],
      "metadata": {
        "id": "UNXnl5_0oNts"
      },
      "id": "UNXnl5_0oNts"
    },
    {
      "cell_type": "code",
      "source": [
        "install.packages(\"wesanderson\")\n",
        "install.packages(\"ggrepel\")\n"
      ],
      "metadata": {
        "colab": {
          "base_uri": "https://localhost:8080/"
        },
        "id": "Qr5IjwwFPc_z",
        "outputId": "cda7cca2-3216-4fb9-a164-a16058e9f0ac"
      },
      "id": "Qr5IjwwFPc_z",
      "execution_count": 1,
      "outputs": [
        {
          "output_type": "stream",
          "name": "stderr",
          "text": [
            "Installing package into ‘/usr/local/lib/R/site-library’\n",
            "(as ‘lib’ is unspecified)\n",
            "\n",
            "Installing package into ‘/usr/local/lib/R/site-library’\n",
            "(as ‘lib’ is unspecified)\n",
            "\n"
          ]
        }
      ]
    },
    {
      "cell_type": "markdown",
      "source": [
        "## Read in data for analysis"
      ],
      "metadata": {
        "id": "0FLmYFyQpH2C"
      },
      "id": "0FLmYFyQpH2C"
    },
    {
      "cell_type": "code",
      "source": [
        "# Reading in the data from Github\n",
        "data <- read.csv(\"https://raw.githubusercontent.com/comparativechrono/Rephasing-of-Seasonal-Birth-Rates-in-the-United-Kingdom-/main/time-series/1953-74.csv\", header = TRUE)\n",
        "data2 <- read.csv(\"https://raw.githubusercontent.com/comparativechrono/Rephasing-of-Seasonal-Birth-Rates-in-the-United-Kingdom-/main/time-series/1976-2014.csv\", header = TRUE)\n"
      ],
      "metadata": {
        "id": "n5EPIOjEpKVR"
      },
      "id": "n5EPIOjEpKVR",
      "execution_count": 2,
      "outputs": []
    },
    {
      "cell_type": "markdown",
      "source": [
        "## Cross correlation analysis"
      ],
      "metadata": {
        "id": "HeRdL2X2oF61"
      },
      "id": "HeRdL2X2oF61"
    },
    {
      "cell_type": "code",
      "source": [
        "library(ggplot2)\n",
        "library(wesanderson)\n",
        "library(ggrepel)\n",
        "\n",
        "# Calculate ccf significance threshold\n",
        "n1 <- nrow(data)\n",
        "n2 <- nrow(data2)\n",
        "sig_level1 <- 1/sqrt(n1)\n",
        "sig_level2 <- 1/sqrt(n2)\n",
        "\n",
        "# Function to calculate ccf values and return a data frame with the results\n",
        "calculate_ccf <- function(data, variable_name, BR_name) {\n",
        "  ccf_values <- ccf(data[[variable_name]], data[[BR_name]], lag.max=24, plot=FALSE)\n",
        "  ccf_data <- data.frame(lag = -24:0, acf = ccf_values$acf[1:25], Variable = variable_name)\n",
        "\n",
        "  # Restrict the data to lags between -24 and -6 to find the maximum value\n",
        "  restricted_data <- subset(ccf_data, lag <= -6 & lag >= -24)\n",
        "  max_ccf <- max(restricted_data$acf)\n",
        "  max_lag <- restricted_data$lag[which.max(restricted_data$acf)]\n",
        "\n",
        "  ccf_data$max_ccf <- max_ccf\n",
        "  ccf_data$max_lag <- max_lag\n",
        "  return(ccf_data)\n",
        "}\n",
        "\n",
        "# Step 1: Calculate ccf values for all combinations of data sets and variables\n",
        "ccf_data1_light <- calculate_ccf(data, \"light\", \"BR\")\n",
        "ccf_data1_temp <- calculate_ccf(data, \"temp\", \"BR\")\n",
        "ccf_data2_light <- calculate_ccf(data2, \"light\", \"BR\")\n",
        "ccf_data2_temp <- calculate_ccf(data2, \"temp\", \"BR\")\n",
        "\n",
        "# Step 2: Add data set identifiers and merge data into a single data frame\n",
        "ccf_data1_light$data_set <- \"1953 - 1974\"\n",
        "ccf_data1_temp$data_set <- \"1953 - 1974\"\n",
        "ccf_data2_light$data_set <- \"1976 - 2014\"\n",
        "ccf_data2_temp$data_set <- \"1976 - 2014\"\n",
        "\n",
        "ccf_data <- rbind(ccf_data1_light, ccf_data1_temp, ccf_data2_light, ccf_data2_temp)\n",
        "ccf_data$sig_level <- ifelse(ccf_data$data_set == \"1953 - 1974\", sig_level1, sig_level2)\n",
        "\n",
        "options(repr.plot.width = 8, repr.plot.height = 5)\n",
        "\n",
        "# Step 3: Create the plot\n",
        "my_plot <- ggplot(ccf_data, aes(x = lag, y = acf, color = Variable)) +\n",
        "  geom_hline(yintercept = 0, linetype=\"dotted\", color=\"grey\", linewidth = 1) +\n",
        "  geom_vline(xintercept = c(-9, -18), linetype=\"dotted\", color=\"grey\", linewidth = 1) +\n",
        "  geom_line(linewidth = 1) +\n",
        "  geom_point() +\n",
        "  geom_point(data = subset(ccf_data, lag == max_lag), aes(x = lag, y = acf), size = 2) +\n",
        "  geom_text_repel(data = subset(ccf_data, lag == max_lag), aes(x = lag, y = acf, label = round(max_ccf, 3)), vjust = -1, size = 5.5, family = \"Arial\", nudge_y = 0.05, show.legend = FALSE) +\n",
        "  geom_hline(aes(yintercept = -sig_level), linetype = \"dashed\", color = \"blue\") +\n",
        "  geom_hline(aes(yintercept = sig_level), linetype = \"dashed\", color = \"blue\") +\n",
        "  labs(x = \"Lag (months)\",\n",
        "       y = \"Cross-correlation\") +\n",
        "  scale_x_continuous(breaks = c(0, -9, -18), labels = c(\"0\", \"-9\", \"-18\")) +\n",
        "  theme_minimal(base_size = 14) +\n",
        "  theme(\n",
        "    plot.background = element_rect(fill = \"white\"),\n",
        "    plot.title = element_text(hjust = 0.5, size = 14, family = \"Arial\"),\n",
        "    plot.title.position = \"plot\",\n",
        "    axis.text = element_text(color = \"black\", size = 14, family = \"Arial\"),\n",
        "    axis.title = element_text(color = \"black\", size = 14, family = \"Arial\"),\n",
        "    axis.ticks = element_line(linewidth = 1),\n",
        "    axis.line = element_line(linewidth = 0),\n",
        "    panel.border = element_rect(fill = NA, color = \"black\", linewidth = 1),\n",
        "    strip.text = element_text(color = \"black\", size = 14, family = \"Arial\"),\n",
        "    panel.grid.major = element_blank(),\n",
        "    panel.grid.minor = element_blank(),\n",
        "    legend.text = element_text(family = \"Arial\", size = 12),\n",
        "    legend.title = element_text(family = \"Arial\", size = 14)\n",
        "  ) +\n",
        "  scale_color_manual(values = wesanderson::wes_palette(\"Zissou1\")[c(4, 1)]) +\n",
        "  facet_wrap(~data_set, ncol=2)\n",
        "\n",
        "ggsave(filename = \"my_plot.png\", plot = my_plot, width = 8, height = 5, dpi = 300)\n",
        "\n"
      ],
      "metadata": {
        "id": "oPeVdEVyHoM1"
      },
      "id": "oPeVdEVyHoM1",
      "execution_count": 3,
      "outputs": []
    },
    {
      "cell_type": "markdown",
      "source": [
        "## Linear modelling"
      ],
      "metadata": {
        "id": "a3Quc8R1oBXA"
      },
      "id": "a3Quc8R1oBXA"
    },
    {
      "cell_type": "code",
      "source": [
        "library(MASS)\n",
        "\n",
        "# Define a function to find the best model for a given dataset\n",
        "find_best_model <- function(data) {\n",
        "  # Convert your variables to time series objects\n",
        "  light.ts <- ts(data$light)\n",
        "  temp.ts <- ts(data$temp)\n",
        "  BR.ts <- ts(data$BR)\n",
        "\n",
        "  # Create lagged variables for light and temp\n",
        "lightlag9 <- lag(light.ts, -9)\n",
        "lightlag10 <- lag(light.ts, -10)\n",
        "lightlag11 <- lag(light.ts, -11)\n",
        "\n",
        "templag9 <- lag(temp.ts, -9)\n",
        "templag10 <- lag(temp.ts, -10)\n",
        "templag11 <- lag(temp.ts, -11)\n",
        "\n",
        "# Create data frame with all variables\n",
        "alldata <- ts.intersect(BR.ts, lightlag9, lightlag10, lightlag11, templag9, templag10, templag11)\n",
        "\n",
        "# Create a list of all possible combinations of the three lags for both light and temp\n",
        "lag_combinations <- list(\n",
        "  list(var = \"light\", lags = c(\"lightlag9\")),\n",
        "  list(var = \"light\", lags = c(\"lightlag10\")),\n",
        "  list(var = \"light\", lags = c(\"lightlag11\")),\n",
        "  list(var = \"light\", lags = c(\"lightlag9\", \"lightlag10\")),\n",
        "  list(var = \"light\", lags = c(\"lightlag9\", \"lightlag11\")),\n",
        "  list(var = \"light\", lags = c(\"lightlag10\", \"lightlag11\")),\n",
        "  list(var = \"light\", lags = c(\"lightlag9\", \"lightlag10\", \"lightlag11\")),\n",
        "  list(var = \"temp\", lags = c(\"templag9\")),\n",
        "  list(var = \"temp\", lags = c(\"templag10\")),\n",
        "  list(var = \"temp\", lags = c(\"templag11\")),\n",
        "  list(var = \"temp\", lags = c(\"templag9\", \"templag10\")),\n",
        "  list(var = \"temp\", lags = c(\"templag9\", \"templag11\")),\n",
        "  list(var = \"temp\", lags = c(\"templag10\", \"templag11\")),\n",
        "  list(var = \"temp\", lags = c(\"templag9\", \"templag10\", \"templag11\"))\n",
        ")\n",
        "\n",
        "# Initialize variables to store the best model and the highest adjusted R-squared value\n",
        "best_model <- NULL\n",
        "highest_adj_r_squared <- 0\n",
        "\n",
        "# Loop through all combinations to find the best model\n",
        "for (combination in lag_combinations) {\n",
        "  # Create a formula for the current combination\n",
        "  formula <- as.formula(paste(\"BR.ts ~\", paste(combination$lags, collapse = \" + \")))\n",
        "\n",
        "  # Fit the model\n",
        "  model <- lm(formula, data = alldata)\n",
        "\n",
        "  # Get the adjusted R-squared value\n",
        "  adj_r_squared <- summary(model)$adj.r.squared\n",
        "\n",
        "  # Check if this model is better than the previous best model\n",
        "  if (adj_r_squared > highest_adj_r_squared) {\n",
        "    # Update the best model and the highest adjusted R-squared value\n",
        "    best_model <- model\n",
        "    highest_adj_r_squared <- adj_r_squared\n",
        "  }\n",
        "}\n",
        "  # Return the summary of the best model\n",
        "  return(summary(best_model))\n",
        "}\n",
        "\n",
        "# Find and print the best model for each dataset already loaded\n",
        "best_model_data1 <- find_best_model(data)\n",
        "best_model_data2 <- find_best_model(data2)\n",
        "\n",
        "# Print the summary of the best models\n",
        "print(\"Summary of the best model for data1:\")\n",
        "print(best_model_data1)\n",
        "\n",
        "print(\"Summary of the best model for data2:\")\n",
        "print(best_model_data2)\n"
      ],
      "metadata": {
        "colab": {
          "base_uri": "https://localhost:8080/"
        },
        "id": "KakhSSaylBuj",
        "outputId": "ab7ba9a0-c899-4112-ba5c-2fea1b706a8c"
      },
      "id": "KakhSSaylBuj",
      "execution_count": 4,
      "outputs": [
        {
          "output_type": "stream",
          "name": "stdout",
          "text": [
            "[1] \"Summary of the best model for data1:\"\n",
            "\n",
            "Call:\n",
            "lm(formula = formula, data = alldata)\n",
            "\n",
            "Residuals:\n",
            "       Min         1Q     Median         3Q        Max \n",
            "-0.0015175 -0.0004227  0.0001014  0.0004552  0.0010924 \n",
            "\n",
            "Coefficients:\n",
            "             Estimate Std. Error t value Pr(>|t|)    \n",
            "(Intercept) 5.548e-03  8.946e-05  62.018  < 2e-16 ***\n",
            "lightlag10  1.600e-06  9.880e-07   1.619 0.106649    \n",
            "lightlag11  3.497e-06  9.866e-07   3.545 0.000469 ***\n",
            "---\n",
            "Signif. codes:  0 ‘***’ 0.001 ‘**’ 0.01 ‘*’ 0.05 ‘.’ 0.1 ‘ ’ 1\n",
            "\n",
            "Residual standard error: 0.0005788 on 250 degrees of freedom\n",
            "Multiple R-squared:  0.1342,\tAdjusted R-squared:  0.1272 \n",
            "F-statistic: 19.37 on 2 and 250 DF,  p-value: 1.512e-08\n",
            "\n",
            "[1] \"Summary of the best model for data2:\"\n",
            "\n",
            "Call:\n",
            "lm(formula = formula, data = alldata)\n",
            "\n",
            "Residuals:\n",
            "       Min         1Q     Median         3Q        Max \n",
            "-7.218e-04 -1.820e-04  1.633e-05  1.794e-04  5.683e-04 \n",
            "\n",
            "Coefficients:\n",
            "              Estimate Std. Error t value Pr(>|t|)    \n",
            "(Intercept)  4.337e-03  3.305e-05 131.240  < 2e-16 ***\n",
            "templag9    -1.448e-05  3.313e-06  -4.371 1.54e-05 ***\n",
            "templag11    2.871e-05  3.312e-06   8.669  < 2e-16 ***\n",
            "---\n",
            "Signif. codes:  0 ‘***’ 0.001 ‘**’ 0.01 ‘*’ 0.05 ‘.’ 0.1 ‘ ’ 1\n",
            "\n",
            "Residual standard error: 0.0002526 on 454 degrees of freedom\n",
            "Multiple R-squared:  0.1423,\tAdjusted R-squared:  0.1385 \n",
            "F-statistic: 37.66 on 2 and 454 DF,  p-value: 7.361e-16\n",
            "\n"
          ]
        }
      ]
    },
    {
      "cell_type": "markdown",
      "source": [
        "If you are unfamiliar with linear models then please read on for a breakdown of the output from the code block above:\n",
        "\n",
        "### Call\n",
        "```\n",
        "Call:\n",
        "lm(formula = formula, data = alldata)\n",
        "```\n",
        "This section simply repeats the function call that was used to fit the model, with the formula and data arguments specified.\n",
        "\n",
        "### Residuals\n",
        "```\n",
        "Residuals:\n",
        "       Min         1Q     Median         3Q        Max\n",
        "-0.0015175 -0.0004227  0.0001014  0.0004552  0.0010924\n",
        "```\n",
        "Here, the \"Residuals\" section provides a summary of the residuals (the differences between the observed and predicted values). The summary includes the minimum, 1st quartile (25th percentile), median (50th percentile), 3rd quartile (75th percentile), and maximum residual values. You ideally want the residuals to be symmetrically distributed around zero.\n",
        "\n",
        "### Coefficients\n",
        "```\n",
        "Coefficients:\n",
        "             Estimate Std. Error t value Pr(>|t|)    \n",
        "(Intercept) 5.548e-03  8.946e-05  62.018  < 2e-16 ***\n",
        "lightlag10  1.600e-06  9.880e-07   1.619 0.106649    \n",
        "lightlag11  3.497e-06  9.866e-07   3.545 0.000469 ***\n",
        "```\n",
        "The \"Coefficients\" section contains the estimates of the parameters (intercept and the slopes), their standard errors, t-values, and p-values. Here are the details for each column:\n",
        "\n",
        "1. **Estimate**: The estimated value of the coefficients.\n",
        "   - **(Intercept)**: 5.548e-03 is the estimated value of the intercept.\n",
        "   - **lightlag10**: 1.600e-06 is the estimated effect of the `lightlag10` variable on `BR.ts`.\n",
        "   - **lightlag11**: 3.497e-06 is the estimated effect of the `lightlag11` variable on `BR.ts`.\n",
        "   \n",
        "2. **Std. Error**: The standard error of the estimated coefficients. It represents the accuracy of the coefficients; the lower, the better.\n",
        "   \n",
        "3. **t value**: The t-value is the ratio of the estimate to its standard error. Larger absolute values of the t-statistic indicate higher significance.\n",
        "   \n",
        "4. **Pr(>|t|)**: The p-value associated with the t-statistic. It tests the null hypothesis that the coefficient is equal to zero (no effect). A low p-value (< 0.05) indicates you can reject the null hypothesis. Here:\n",
        "   - For **lightlag10**, the p-value is 0.106649, which is not significant at a 0.05 level.\n",
        "   - For **lightlag11**, the p-value is 0.000469, which is significant at a 0.05 level (indicated by `***`).\n",
        "\n",
        "### Additional Statistics\n",
        "```\n",
        "Residual standard error: 0.0005788 on 250 degrees of freedom\n",
        "Multiple R-squared:  0.1342,\tAdjusted R-squared:  0.1272\n",
        "F-statistic: 19.37 on 2 and 250 DF,  p-value: 1.512e-08\n",
        "```\n",
        "- **Residual standard error**: This is a measure of the quality of the linear regression fit; lower values indicate a better fit.\n",
        "   \n",
        "- **Multiple R-squared**: This is a statistical measure of how close the data are to the fitted regression line; a value of 0.1342 means about 13.42% of the variability in `BR.ts` can be explained by the model.\n",
        "   \n",
        "- **Adjusted R-squared**: It is a corrected version of R-squared that has been adjusted for the number of predictors in the model; it's more appropriate for comparing different models.\n",
        "   \n",
        "- **F-statistic and p-value**: These are used to test the overall significance of the model. A low p-value here (1.512e-08) suggests that the model is statistically significant (at least one of the predictor variables has a non-zero coefficient)."
      ],
      "metadata": {
        "id": "KoqkLwkZi07L"
      },
      "id": "KoqkLwkZi07L"
    }
  ],
  "metadata": {
    "kernelspec": {
      "display_name": "R",
      "language": "R",
      "name": "ir"
    },
    "language_info": {
      "codemirror_mode": "r",
      "file_extension": ".r",
      "mimetype": "text/x-r-source",
      "name": "R",
      "pygments_lexer": "r",
      "version": "3.5.1"
    },
    "colab": {
      "provenance": [],
      "include_colab_link": true
    }
  },
  "nbformat": 4,
  "nbformat_minor": 5
}